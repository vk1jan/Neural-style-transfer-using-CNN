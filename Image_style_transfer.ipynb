{
  "nbformat": 4,
  "nbformat_minor": 0,
  "metadata": {
    "colab": {
      "provenance": [],
      "gpuType": "T4"
    },
    "kernelspec": {
      "name": "python3",
      "display_name": "Python 3"
    },
    "language_info": {
      "name": "python"
    },
    "accelerator": "GPU"
  },
  "cells": [
    {
      "cell_type": "code",
      "execution_count": null,
      "metadata": {
        "id": "o20AtTjrhyWu"
      },
      "outputs": [],
      "source": [
        "import torch\n",
        "import torch.nn as nn\n",
        "import torch.optim as optim\n",
        "from PIL import Image\n",
        "import torchvision.transforms as transforms\n",
        "import torchvision.models as models\n",
        "from torchvision.utils import save_image\n",
        "import matplotlib.pyplot as plt\n",
        "%matplotlib inline"
      ]
    },
    {
      "cell_type": "code",
      "source": [
        "class customvgg19(nn.Module):\n",
        "  def __init__(self):\n",
        "    super().__init__()\n",
        "    self.chosen_features=[0,5,10,19,28]\n",
        "    self.model = models.vgg19(weights=True).features[:29]\n",
        "\n",
        "  def forward(self,x):\n",
        "      features = []\n",
        "\n",
        "      for layer_num,layer in enumerate(self.model):\n",
        "        x = layer(x)\n",
        "\n",
        "        if layer_num in self.chosen_features:\n",
        "          features.append(x)\n",
        "\n",
        "      return features"
      ],
      "metadata": {
        "id": "-F2NHV03lEzb"
      },
      "execution_count": null,
      "outputs": []
    },
    {
      "cell_type": "code",
      "source": [
        "custom = customvgg19()\n",
        "custom.to(device)"
      ],
      "metadata": {
        "colab": {
          "base_uri": "https://localhost:8080/"
        },
        "id": "-r12MWhsigFE",
        "outputId": "2df5169f-a40b-4885-97e7-eaeeae039558"
      },
      "execution_count": null,
      "outputs": [
        {
          "output_type": "stream",
          "name": "stderr",
          "text": [
            "/usr/local/lib/python3.10/dist-packages/torchvision/models/_utils.py:223: UserWarning: Arguments other than a weight enum or `None` for 'weights' are deprecated since 0.13 and may be removed in the future. The current behavior is equivalent to passing `weights=VGG19_Weights.IMAGENET1K_V1`. You can also use `weights=VGG19_Weights.DEFAULT` to get the most up-to-date weights.\n",
            "  warnings.warn(msg)\n"
          ]
        },
        {
          "output_type": "execute_result",
          "data": {
            "text/plain": [
              "customvgg19(\n",
              "  (model): Sequential(\n",
              "    (0): Conv2d(3, 64, kernel_size=(3, 3), stride=(1, 1), padding=(1, 1))\n",
              "    (1): ReLU(inplace=True)\n",
              "    (2): Conv2d(64, 64, kernel_size=(3, 3), stride=(1, 1), padding=(1, 1))\n",
              "    (3): ReLU(inplace=True)\n",
              "    (4): MaxPool2d(kernel_size=2, stride=2, padding=0, dilation=1, ceil_mode=False)\n",
              "    (5): Conv2d(64, 128, kernel_size=(3, 3), stride=(1, 1), padding=(1, 1))\n",
              "    (6): ReLU(inplace=True)\n",
              "    (7): Conv2d(128, 128, kernel_size=(3, 3), stride=(1, 1), padding=(1, 1))\n",
              "    (8): ReLU(inplace=True)\n",
              "    (9): MaxPool2d(kernel_size=2, stride=2, padding=0, dilation=1, ceil_mode=False)\n",
              "    (10): Conv2d(128, 256, kernel_size=(3, 3), stride=(1, 1), padding=(1, 1))\n",
              "    (11): ReLU(inplace=True)\n",
              "    (12): Conv2d(256, 256, kernel_size=(3, 3), stride=(1, 1), padding=(1, 1))\n",
              "    (13): ReLU(inplace=True)\n",
              "    (14): Conv2d(256, 256, kernel_size=(3, 3), stride=(1, 1), padding=(1, 1))\n",
              "    (15): ReLU(inplace=True)\n",
              "    (16): Conv2d(256, 256, kernel_size=(3, 3), stride=(1, 1), padding=(1, 1))\n",
              "    (17): ReLU(inplace=True)\n",
              "    (18): MaxPool2d(kernel_size=2, stride=2, padding=0, dilation=1, ceil_mode=False)\n",
              "    (19): Conv2d(256, 512, kernel_size=(3, 3), stride=(1, 1), padding=(1, 1))\n",
              "    (20): ReLU(inplace=True)\n",
              "    (21): Conv2d(512, 512, kernel_size=(3, 3), stride=(1, 1), padding=(1, 1))\n",
              "    (22): ReLU(inplace=True)\n",
              "    (23): Conv2d(512, 512, kernel_size=(3, 3), stride=(1, 1), padding=(1, 1))\n",
              "    (24): ReLU(inplace=True)\n",
              "    (25): Conv2d(512, 512, kernel_size=(3, 3), stride=(1, 1), padding=(1, 1))\n",
              "    (26): ReLU(inplace=True)\n",
              "    (27): MaxPool2d(kernel_size=2, stride=2, padding=0, dilation=1, ceil_mode=False)\n",
              "    (28): Conv2d(512, 512, kernel_size=(3, 3), stride=(1, 1), padding=(1, 1))\n",
              "  )\n",
              ")"
            ]
          },
          "metadata": {},
          "execution_count": 73
        }
      ]
    },
    {
      "cell_type": "code",
      "source": [
        "device = torch.device(\"cuda\" if torch.cuda.is_available else \"cpu\")\n",
        "device"
      ],
      "metadata": {
        "colab": {
          "base_uri": "https://localhost:8080/"
        },
        "id": "A8k26Rx4so_k",
        "outputId": "b4e6b6b7-2962-4c15-9078-f6a3d61108e7"
      },
      "execution_count": null,
      "outputs": [
        {
          "output_type": "execute_result",
          "data": {
            "text/plain": [
              "device(type='cuda')"
            ]
          },
          "metadata": {},
          "execution_count": 74
        }
      ]
    },
    {
      "cell_type": "code",
      "source": [
        "img_size = 256\n",
        "stats = ((0.485, 0.456, 0.406),(0.229, 0.224, 0.225))\n",
        "loader = transforms.Compose([\n",
        "    transforms.Resize(img_size),\n",
        "    transforms.CenterCrop(img_size),\n",
        "    transforms.ToTensor(),\n",
        "    transforms.Normalize(*stats)\n",
        "]\n",
        ")"
      ],
      "metadata": {
        "id": "HW7yaAC_reBx"
      },
      "execution_count": null,
      "outputs": []
    },
    {
      "cell_type": "code",
      "source": [
        "def load_image(image_name):\n",
        "  image = Image.open(image_name)\n",
        "  image = loader(image).unsqueeze(0)\n",
        "  return image.to(device)"
      ],
      "metadata": {
        "id": "uH5wJ53zigIY"
      },
      "execution_count": null,
      "outputs": []
    },
    {
      "cell_type": "code",
      "source": [
        "content_img = load_image(\"content.jpg\")\n",
        "style_img = load_image(\"style_img.jpg\")\n",
        "generated_img = content_img.clone().requires_grad_(True)\n",
        "content_img.shape"
      ],
      "metadata": {
        "colab": {
          "base_uri": "https://localhost:8080/"
        },
        "id": "20z7XqcRigLw",
        "outputId": "0f3278af-f51b-4ede-c628-eb1fd1ffbc22"
      },
      "execution_count": null,
      "outputs": [
        {
          "output_type": "execute_result",
          "data": {
            "text/plain": [
              "torch.Size([1, 3, 256, 256])"
            ]
          },
          "metadata": {},
          "execution_count": 85
        }
      ]
    },
    {
      "cell_type": "code",
      "source": [
        "# show_image(content_img)\n",
        "# plt.imshow(content_img)"
      ],
      "metadata": {
        "id": "Tt9SuIRs5B1O"
      },
      "execution_count": null,
      "outputs": []
    },
    {
      "cell_type": "code",
      "source": [
        "epochs = 6000\n",
        "lr = 0.01\n",
        "alpha = 1\n",
        "beta = 0.01\n",
        "optimizer = optim.Adam([generated_img],lr=lr)"
      ],
      "metadata": {
        "id": "B2u9i8A1igPC"
      },
      "execution_count": null,
      "outputs": []
    },
    {
      "cell_type": "code",
      "source": [
        "def gram_matrix(matrix,channel,height,width):\n",
        "  g = matrix.view(channel,height*width)\n",
        "  return g.mm(g.t())"
      ],
      "metadata": {
        "id": "gFOgRh6GzeUi"
      },
      "execution_count": null,
      "outputs": []
    },
    {
      "cell_type": "code",
      "source": [
        "def denorm(img):\n",
        "  return img*stats[1][0]+stats[0][0]\n",
        "def show_image(img):\n",
        "  plt.imshow(denorm(img))"
      ],
      "metadata": {
        "id": "1EcCDQYo2u_r"
      },
      "execution_count": null,
      "outputs": []
    },
    {
      "cell_type": "code",
      "source": [
        "for epoch in range(epochs+1):\n",
        "  generated_features = custom(generated_img)\n",
        "  content_features = custom(content_img)\n",
        "  style_features = custom(style_img)\n",
        "\n",
        "  style_loss=content_loss=0\n",
        "\n",
        "  for g_feature,c_feature,s_feature in zip(generated_features,content_features,style_features):\n",
        "    batch_size,channel,height,width = g_feature.shape\n",
        "    content_loss += torch.mean((g_feature-c_feature)**2)\n",
        "\n",
        "    gen_gram = gram_matrix(g_feature,channel,height,width)\n",
        "    style_gram = gram_matrix(s_feature,channel,height,width)\n",
        "\n",
        "    style_loss += torch.mean((gen_gram-style_gram)**2)\n",
        "\n",
        "  total_loss = alpha*content_loss + beta*style_loss\n",
        "  optimizer.zero_grad()\n",
        "  total_loss.backward()\n",
        "  optimizer.step()\n",
        "\n",
        "\n",
        "  if epoch%100==0:\n",
        "    print(f\"total loss for epoch {epoch}: {total_loss}\")\n",
        "\n",
        "  if epoch==epochs:\n",
        "    save_image(generated_img,\"generated.png\")\n",
        "\n"
      ],
      "metadata": {
        "colab": {
          "base_uri": "https://localhost:8080/"
        },
        "id": "xdJHcGN6igSL",
        "outputId": "9686b6b4-690e-40ab-943c-445410571f06"
      },
      "execution_count": null,
      "outputs": [
        {
          "output_type": "stream",
          "name": "stdout",
          "text": [
            "total loss for epoch 0: 2481159.25\n",
            "total loss for epoch 100: 314996.5625\n",
            "total loss for epoch 200: 151625.28125\n",
            "total loss for epoch 300: 88155.828125\n",
            "total loss for epoch 400: 61226.46875\n",
            "total loss for epoch 500: 48395.82421875\n",
            "total loss for epoch 600: 41146.5390625\n",
            "total loss for epoch 700: 36768.80859375\n",
            "total loss for epoch 800: 33611.3359375\n",
            "total loss for epoch 900: 31242.53125\n",
            "total loss for epoch 1000: 29381.576171875\n",
            "total loss for epoch 1100: 27959.306640625\n",
            "total loss for epoch 1200: 26846.6171875\n",
            "total loss for epoch 1300: 25740.287109375\n",
            "total loss for epoch 1400: 24909.056640625\n",
            "total loss for epoch 1500: 24062.900390625\n",
            "total loss for epoch 1600: 23531.14453125\n",
            "total loss for epoch 1700: 23050.958984375\n",
            "total loss for epoch 1800: 22383.439453125\n",
            "total loss for epoch 1900: 22072.666015625\n",
            "total loss for epoch 2000: 21471.36328125\n",
            "total loss for epoch 2100: 21075.458984375\n",
            "total loss for epoch 2200: 21603.998046875\n",
            "total loss for epoch 2300: 20438.123046875\n",
            "total loss for epoch 2400: 20216.71484375\n",
            "total loss for epoch 2500: 19887.419921875\n",
            "total loss for epoch 2600: 19826.138671875\n",
            "total loss for epoch 2700: 19339.673828125\n",
            "total loss for epoch 2800: 19148.783203125\n",
            "total loss for epoch 2900: 19004.669921875\n",
            "total loss for epoch 3000: 18857.58203125\n",
            "total loss for epoch 3100: 18674.111328125\n",
            "total loss for epoch 3200: 18719.640625\n",
            "total loss for epoch 3300: 18282.984375\n",
            "total loss for epoch 3400: 18117.484375\n",
            "total loss for epoch 3500: 18135.083984375\n",
            "total loss for epoch 3600: 17901.611328125\n",
            "total loss for epoch 3700: 17695.609375\n",
            "total loss for epoch 3800: 17706.228515625\n",
            "total loss for epoch 3900: 17624.265625\n",
            "total loss for epoch 4000: 17430.734375\n",
            "total loss for epoch 4100: 17301.724609375\n",
            "total loss for epoch 4200: 17207.765625\n",
            "total loss for epoch 4300: 17028.0\n",
            "total loss for epoch 4400: 16978.765625\n",
            "total loss for epoch 4500: 17121.29296875\n",
            "total loss for epoch 4600: 16809.138671875\n",
            "total loss for epoch 4700: 16737.6328125\n",
            "total loss for epoch 4800: 16626.078125\n",
            "total loss for epoch 4900: 16611.76953125\n",
            "total loss for epoch 5000: 16462.2578125\n",
            "total loss for epoch 5100: 16523.056640625\n",
            "total loss for epoch 5200: 16738.576171875\n",
            "total loss for epoch 5300: 16326.7763671875\n",
            "total loss for epoch 5400: 16790.900390625\n",
            "total loss for epoch 5500: 17180.36328125\n",
            "total loss for epoch 5600: 16120.7685546875\n",
            "total loss for epoch 5700: 16046.9296875\n",
            "total loss for epoch 5800: 16086.6064453125\n",
            "total loss for epoch 5900: 15942.9609375\n",
            "total loss for epoch 6000: 16009.2119140625\n"
          ]
        }
      ]
    },
    {
      "cell_type": "code",
      "source": [],
      "metadata": {
        "id": "bX3ekPgjigVY"
      },
      "execution_count": null,
      "outputs": []
    },
    {
      "cell_type": "code",
      "source": [],
      "metadata": {
        "id": "ekMrI6kYigYl"
      },
      "execution_count": null,
      "outputs": []
    },
    {
      "cell_type": "code",
      "source": [],
      "metadata": {
        "id": "XigCCLAQigb_"
      },
      "execution_count": null,
      "outputs": []
    },
    {
      "cell_type": "code",
      "source": [],
      "metadata": {
        "id": "cRN6gCsqigfV"
      },
      "execution_count": null,
      "outputs": []
    },
    {
      "cell_type": "code",
      "source": [],
      "metadata": {
        "id": "eVoaWEwpigic"
      },
      "execution_count": null,
      "outputs": []
    },
    {
      "cell_type": "code",
      "source": [],
      "metadata": {
        "id": "PzHSP4ssiglu"
      },
      "execution_count": null,
      "outputs": []
    },
    {
      "cell_type": "code",
      "source": [],
      "metadata": {
        "id": "WQUPxFK3igpK"
      },
      "execution_count": null,
      "outputs": []
    },
    {
      "cell_type": "code",
      "source": [],
      "metadata": {
        "id": "5bX5pcSligsM"
      },
      "execution_count": null,
      "outputs": []
    },
    {
      "cell_type": "code",
      "source": [],
      "metadata": {
        "id": "fdRWOO3higvY"
      },
      "execution_count": null,
      "outputs": []
    },
    {
      "cell_type": "code",
      "source": [],
      "metadata": {
        "id": "xal5JHsRigy9"
      },
      "execution_count": null,
      "outputs": []
    }
  ]
}